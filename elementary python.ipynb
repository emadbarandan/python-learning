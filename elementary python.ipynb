{
 "cells": [
  {
   "cell_type": "markdown",
   "id": "0eb7bc5e",
   "metadata": {},
   "source": [
    "# type\n",
    "\n",
    "s01e03"
   ]
  },
  {
   "cell_type": "code",
   "execution_count": 1,
   "id": "5d2687e5",
   "metadata": {},
   "outputs": [
    {
     "data": {
      "text/plain": [
       "2"
      ]
     },
     "execution_count": 1,
     "metadata": {},
     "output_type": "execute_result"
    }
   ],
   "source": [
    "2"
   ]
  },
  {
   "cell_type": "code",
   "execution_count": 2,
   "id": "48694eaa",
   "metadata": {},
   "outputs": [
    {
     "data": {
      "text/plain": [
       "'salam'"
      ]
     },
     "execution_count": 2,
     "metadata": {},
     "output_type": "execute_result"
    }
   ],
   "source": [
    "\"salam\""
   ]
  },
  {
   "cell_type": "code",
   "execution_count": 3,
   "id": "ad3b93ca",
   "metadata": {},
   "outputs": [
    {
     "data": {
      "text/plain": [
       "'salam'"
      ]
     },
     "execution_count": 3,
     "metadata": {},
     "output_type": "execute_result"
    }
   ],
   "source": [
    "'salam'"
   ]
  },
  {
   "cell_type": "code",
   "execution_count": 4,
   "id": "af375f42",
   "metadata": {},
   "outputs": [
    {
     "data": {
      "text/plain": [
       "int"
      ]
     },
     "execution_count": 4,
     "metadata": {},
     "output_type": "execute_result"
    }
   ],
   "source": [
    "type (12)"
   ]
  },
  {
   "cell_type": "code",
   "execution_count": 4,
   "id": "1763d8d0",
   "metadata": {},
   "outputs": [
    {
     "data": {
      "text/plain": [
       "float"
      ]
     },
     "execution_count": 4,
     "metadata": {},
     "output_type": "execute_result"
    }
   ],
   "source": [
    "type(12.3)"
   ]
  },
  {
   "cell_type": "code",
   "execution_count": 5,
   "id": "02c96d0c",
   "metadata": {},
   "outputs": [
    {
     "data": {
      "text/plain": [
       "str"
      ]
     },
     "execution_count": 5,
     "metadata": {},
     "output_type": "execute_result"
    }
   ],
   "source": [
    "type('emad')"
   ]
  },
  {
   "cell_type": "code",
   "execution_count": 6,
   "id": "34e8933d",
   "metadata": {},
   "outputs": [
    {
     "name": "stdout",
     "output_type": "stream",
     "text": [
      "4\n"
     ]
    }
   ],
   "source": [
    " print (4)"
   ]
  },
  {
   "cell_type": "code",
   "execution_count": 8,
   "id": "dc324c23",
   "metadata": {},
   "outputs": [
    {
     "name": "stdout",
     "output_type": "stream",
     "text": [
      "hello word\n"
     ]
    }
   ],
   "source": [
    "print('hello word')"
   ]
  },
  {
   "cell_type": "markdown",
   "id": "297c4caf",
   "metadata": {},
   "source": [
    "# variable\n",
    "\n",
    "s01e04\n"
   ]
  },
  {
   "cell_type": "code",
   "execution_count": 7,
   "id": "e8753046",
   "metadata": {},
   "outputs": [
    {
     "data": {
      "text/plain": [
       "4"
      ]
     },
     "execution_count": 7,
     "metadata": {},
     "output_type": "execute_result"
    }
   ],
   "source": [
    "x=2\n",
    "x*2"
   ]
  },
  {
   "cell_type": "code",
   "execution_count": 8,
   "id": "0bda0ec4",
   "metadata": {},
   "outputs": [
    {
     "data": {
      "text/plain": [
       "18"
      ]
     },
     "execution_count": 8,
     "metadata": {},
     "output_type": "execute_result"
    }
   ],
   "source": [
    "x=6\n",
    "x*3"
   ]
  },
  {
   "cell_type": "code",
   "execution_count": 9,
   "id": "dd7dd22e",
   "metadata": {},
   "outputs": [
    {
     "data": {
      "text/plain": [
       "7850.0"
      ]
     },
     "execution_count": 9,
     "metadata": {},
     "output_type": "execute_result"
    }
   ],
   "source": [
    "pi=3.14\n",
    "r=50\n",
    "pi*r*r"
   ]
  },
  {
   "cell_type": "code",
   "execution_count": 10,
   "id": "b52b1243",
   "metadata": {},
   "outputs": [
    {
     "data": {
      "text/plain": [
       "7853.750000000001"
      ]
     },
     "execution_count": 10,
     "metadata": {},
     "output_type": "execute_result"
    }
   ],
   "source": [
    "pi=3.1415\n",
    "pi*r*r"
   ]
  },
  {
   "cell_type": "code",
   "execution_count": 11,
   "id": "6eeaca25",
   "metadata": {},
   "outputs": [],
   "source": [
    "masahat=pi*r*r"
   ]
  },
  {
   "cell_type": "code",
   "execution_count": 12,
   "id": "9fea6684",
   "metadata": {},
   "outputs": [
    {
     "data": {
      "text/plain": [
       "7853.750000000001"
      ]
     },
     "execution_count": 12,
     "metadata": {},
     "output_type": "execute_result"
    }
   ],
   "source": [
    "masahat"
   ]
  },
  {
   "cell_type": "code",
   "execution_count": 13,
   "id": "c7a5d602",
   "metadata": {},
   "outputs": [
    {
     "data": {
      "text/plain": [
       "2"
      ]
     },
     "execution_count": 13,
     "metadata": {},
     "output_type": "execute_result"
    }
   ],
   "source": [
    "x=1\n",
    "x=x+1\n",
    "x"
   ]
  },
  {
   "cell_type": "markdown",
   "id": "4e4ba742",
   "metadata": {},
   "source": [
    "   # statement\n",
    "   \n",
    "   se01 e05"
   ]
  },
  {
   "cell_type": "code",
   "execution_count": 14,
   "id": "234a9e8c",
   "metadata": {},
   "outputs": [
    {
     "name": "stdout",
     "output_type": "stream",
     "text": [
      "1\n"
     ]
    },
    {
     "data": {
      "text/plain": [
       "64"
      ]
     },
     "execution_count": 14,
     "metadata": {},
     "output_type": "execute_result"
    }
   ],
   "source": [
    "x=1\n",
    "print(x)\n",
    "2**6"
   ]
  },
  {
   "cell_type": "code",
   "execution_count": 17,
   "id": "5be3536e",
   "metadata": {},
   "outputs": [
    {
     "data": {
      "text/plain": [
       "5"
      ]
     },
     "execution_count": 17,
     "metadata": {},
     "output_type": "execute_result"
    }
   ],
   "source": [
    "17//3"
   ]
  },
  {
   "cell_type": "code",
   "execution_count": 15,
   "id": "fb6e3540",
   "metadata": {},
   "outputs": [
    {
     "data": {
      "text/plain": [
       "2"
      ]
     },
     "execution_count": 15,
     "metadata": {},
     "output_type": "execute_result"
    }
   ],
   "source": [
    "17%3"
   ]
  },
  {
   "cell_type": "code",
   "execution_count": 16,
   "id": "d9e0b2ae",
   "metadata": {},
   "outputs": [
    {
     "data": {
      "text/plain": [
       "3.000757480116147"
      ]
     },
     "execution_count": 16,
     "metadata": {},
     "output_type": "execute_result"
    }
   ],
   "source": [
    " x*3+6/89**2"
   ]
  },
  {
   "cell_type": "code",
   "execution_count": 20,
   "id": "c46c04a3",
   "metadata": {},
   "outputs": [
    {
     "name": "stdout",
     "output_type": "stream",
     "text": [
      "emad\n",
      "barandan\n",
      "emad barandan\n"
     ]
    },
    {
     "data": {
      "text/plain": [
       "'emademademademademad'"
      ]
     },
     "execution_count": 20,
     "metadata": {},
     "output_type": "execute_result"
    }
   ],
   "source": [
    "myname ='emad'\n",
    "print (myname)\n",
    "myfamily ='barandan'\n",
    "print (myfamily)\n",
    "print (myname + ' '+ myfamily)\n",
    "myname*5"
   ]
  },
  {
   "cell_type": "code",
   "execution_count": 17,
   "id": "1b98bd80",
   "metadata": {},
   "outputs": [
    {
     "name": "stdout",
     "output_type": "stream",
     "text": [
      "50\n"
     ]
    },
    {
     "data": {
      "text/plain": [
       "'50'"
      ]
     },
     "execution_count": 17,
     "metadata": {},
     "output_type": "execute_result"
    }
   ],
   "source": [
    "input ()"
   ]
  },
  {
   "cell_type": "code",
   "execution_count": null,
   "id": "a10eac20",
   "metadata": {},
   "outputs": [],
   "source": [
    "input ('please give me your age :')"
   ]
  },
  {
   "cell_type": "code",
   "execution_count": null,
   "id": "fddade16",
   "metadata": {},
   "outputs": [],
   "source": [
    "age =input ('please give me your age :')"
   ]
  },
  {
   "cell_type": "code",
   "execution_count": null,
   "id": "adccbde8",
   "metadata": {},
   "outputs": [],
   "source": [
    "age"
   ]
  },
  {
   "cell_type": "code",
   "execution_count": null,
   "id": "276265ff",
   "metadata": {},
   "outputs": [],
   "source": [
    "age=int (age)"
   ]
  },
  {
   "cell_type": "code",
   "execution_count": 31,
   "id": "ad0db217",
   "metadata": {},
   "outputs": [
    {
     "data": {
      "text/plain": [
       "24"
      ]
     },
     "execution_count": 31,
     "metadata": {},
     "output_type": "execute_result"
    }
   ],
   "source": [
    "int (age)+2"
   ]
  },
  {
   "cell_type": "code",
   "execution_count": 33,
   "id": "9e60fc5a",
   "metadata": {},
   "outputs": [
    {
     "data": {
      "text/plain": [
       "22"
      ]
     },
     "execution_count": 33,
     "metadata": {},
     "output_type": "execute_result"
    }
   ],
   "source": [
    "  age\n",
    "    "
   ]
  },
  {
   "cell_type": "code",
   "execution_count": null,
   "id": "898748a4",
   "metadata": {},
   "outputs": [],
   "source": [
    "age**2\n",
    "#comment"
   ]
  },
  {
   "cell_type": "markdown",
   "id": "fdb0607d",
   "metadata": {},
   "source": [
    "# boolean\n",
    "s01ep06\n"
   ]
  },
  {
   "cell_type": "code",
   "execution_count": 36,
   "id": "6d663312",
   "metadata": {},
   "outputs": [
    {
     "data": {
      "text/plain": [
       "True"
      ]
     },
     "execution_count": 36,
     "metadata": {},
     "output_type": "execute_result"
    }
   ],
   "source": [
    "True"
   ]
  },
  {
   "cell_type": "code",
   "execution_count": 37,
   "id": "e62c22a8",
   "metadata": {},
   "outputs": [
    {
     "data": {
      "text/plain": [
       "False"
      ]
     },
     "execution_count": 37,
     "metadata": {},
     "output_type": "execute_result"
    }
   ],
   "source": [
    "False"
   ]
  },
  {
   "cell_type": "code",
   "execution_count": 38,
   "id": "c43218e2",
   "metadata": {},
   "outputs": [
    {
     "data": {
      "text/plain": [
       "bool"
      ]
     },
     "execution_count": 38,
     "metadata": {},
     "output_type": "execute_result"
    }
   ],
   "source": [
    "type(True)"
   ]
  },
  {
   "cell_type": "code",
   "execution_count": 39,
   "id": "4d638502",
   "metadata": {},
   "outputs": [
    {
     "data": {
      "text/plain": [
       "False"
      ]
     },
     "execution_count": 39,
     "metadata": {},
     "output_type": "execute_result"
    }
   ],
   "source": [
    "5>9"
   ]
  },
  {
   "cell_type": "code",
   "execution_count": 40,
   "id": "3e14a485",
   "metadata": {},
   "outputs": [
    {
     "data": {
      "text/plain": [
       "False"
      ]
     },
     "execution_count": 40,
     "metadata": {},
     "output_type": "execute_result"
    }
   ],
   "source": [
    "x=5\n",
    "x>10"
   ]
  },
  {
   "cell_type": "code",
   "execution_count": 41,
   "id": "15255eb9",
   "metadata": {},
   "outputs": [
    {
     "data": {
      "text/plain": [
       "False"
      ]
     },
     "execution_count": 41,
     "metadata": {},
     "output_type": "execute_result"
    }
   ],
   "source": [
    "x>=20"
   ]
  },
  {
   "cell_type": "code",
   "execution_count": 42,
   "id": "8be6823a",
   "metadata": {},
   "outputs": [
    {
     "data": {
      "text/plain": [
       "True"
      ]
     },
     "execution_count": 42,
     "metadata": {},
     "output_type": "execute_result"
    }
   ],
   "source": [
    "x<=10"
   ]
  },
  {
   "cell_type": "code",
   "execution_count": 43,
   "id": "2d41f217",
   "metadata": {},
   "outputs": [
    {
     "data": {
      "text/plain": [
       "False"
      ]
     },
     "execution_count": 43,
     "metadata": {},
     "output_type": "execute_result"
    }
   ],
   "source": [
    "x==10"
   ]
  },
  {
   "cell_type": "code",
   "execution_count": 44,
   "id": "4471cfe8",
   "metadata": {},
   "outputs": [
    {
     "data": {
      "text/plain": [
       "True"
      ]
     },
     "execution_count": 44,
     "metadata": {},
     "output_type": "execute_result"
    }
   ],
   "source": [
    "x!=10"
   ]
  },
  {
   "cell_type": "code",
   "execution_count": 45,
   "id": "bc0bf252",
   "metadata": {},
   "outputs": [
    {
     "data": {
      "text/plain": [
       "False"
      ]
     },
     "execution_count": 45,
     "metadata": {},
     "output_type": "execute_result"
    }
   ],
   "source": [
    " not x!=10"
   ]
  },
  {
   "cell_type": "code",
   "execution_count": 46,
   "id": "04ec6c0d",
   "metadata": {},
   "outputs": [
    {
     "data": {
      "text/plain": [
       "False"
      ]
     },
     "execution_count": 46,
     "metadata": {},
     "output_type": "execute_result"
    }
   ],
   "source": [
    "3>4 and 4>5"
   ]
  },
  {
   "cell_type": "code",
   "execution_count": 47,
   "id": "6634d6d7",
   "metadata": {},
   "outputs": [
    {
     "data": {
      "text/plain": [
       "True"
      ]
     },
     "execution_count": 47,
     "metadata": {},
     "output_type": "execute_result"
    }
   ],
   "source": [
    "3>2 or 3>6"
   ]
  },
  {
   "cell_type": "markdown",
   "id": "1d6bba07",
   "metadata": {},
   "source": [
    "# if\n",
    "\n",
    "s01 ep07"
   ]
  },
  {
   "cell_type": "code",
   "execution_count": 54,
   "id": "c21d739b",
   "metadata": {},
   "outputs": [
    {
     "name": "stdout",
     "output_type": "stream",
     "text": [
      "bozorge ha\n",
      "zoje\n"
     ]
    }
   ],
   "source": [
    "x=50\n",
    "if x>10 :\n",
    "    print ( 'bozorge ha')\n",
    "if x<=10 :\n",
    "    print ( 'kochike ha')\n",
    "elif x%2 == 0 :\n",
    "    print('zoje')\n",
    "else :\n",
    "    print('farde')"
   ]
  },
  {
   "cell_type": "markdown",
   "id": "319b05ea",
   "metadata": {},
   "source": [
    "# function\n",
    "\n",
    "s02 ep01"
   ]
  },
  {
   "cell_type": "code",
   "execution_count": 1,
   "id": "48f3548a",
   "metadata": {},
   "outputs": [
    {
     "data": {
      "text/plain": [
       "545"
      ]
     },
     "execution_count": 1,
     "metadata": {},
     "output_type": "execute_result"
    }
   ],
   "source": [
    "int('545')"
   ]
  },
  {
   "cell_type": "code",
   "execution_count": 2,
   "id": "3c23879e",
   "metadata": {},
   "outputs": [
    {
     "data": {
      "text/plain": [
       "'a'"
      ]
     },
     "execution_count": 2,
     "metadata": {},
     "output_type": "execute_result"
    }
   ],
   "source": [
    "min('emad')"
   ]
  },
  {
   "cell_type": "code",
   "execution_count": 3,
   "id": "4a52ad10",
   "metadata": {},
   "outputs": [
    {
     "data": {
      "text/plain": [
       "'m'"
      ]
     },
     "execution_count": 3,
     "metadata": {},
     "output_type": "execute_result"
    }
   ],
   "source": [
    "max('emad')"
   ]
  },
  {
   "cell_type": "markdown",
   "id": "473bcf72",
   "metadata": {},
   "source": [
    "## کتابخانه فرا خوندن"
   ]
  },
  {
   "cell_type": "code",
   "execution_count": 4,
   "id": "2d9d864c",
   "metadata": {},
   "outputs": [],
   "source": [
    "import math"
   ]
  },
  {
   "cell_type": "code",
   "execution_count": 5,
   "id": "7e307641",
   "metadata": {},
   "outputs": [
    {
     "data": {
      "text/plain": [
       "0.5646424733950354"
      ]
     },
     "execution_count": 5,
     "metadata": {},
     "output_type": "execute_result"
    }
   ],
   "source": [
    "math.sin(0.6)"
   ]
  },
  {
   "cell_type": "code",
   "execution_count": 6,
   "id": "ace79aab",
   "metadata": {},
   "outputs": [],
   "source": [
    "import random"
   ]
  },
  {
   "cell_type": "code",
   "execution_count": 8,
   "id": "b995775a",
   "metadata": {},
   "outputs": [
    {
     "data": {
      "text/plain": [
       "0.210633850495912"
      ]
     },
     "execution_count": 8,
     "metadata": {},
     "output_type": "execute_result"
    }
   ],
   "source": [
    "random.random()"
   ]
  },
  {
   "cell_type": "code",
   "execution_count": 10,
   "id": "62a1bc97",
   "metadata": {},
   "outputs": [
    {
     "data": {
      "text/plain": [
       "9"
      ]
     },
     "execution_count": 10,
     "metadata": {},
     "output_type": "execute_result"
    }
   ],
   "source": [
    "random.randint(2,10)"
   ]
  },
  {
   "cell_type": "markdown",
   "id": "43bd26e1",
   "metadata": {},
   "source": [
    "## تعریف کردن تابع "
   ]
  },
  {
   "cell_type": "code",
   "execution_count": 13,
   "id": "e63213dd",
   "metadata": {},
   "outputs": [
    {
     "name": "stdout",
     "output_type": "stream",
     "text": [
      "salam\n",
      "baye\n"
     ]
    }
   ],
   "source": [
    "def salambye():\n",
    "    print ('salam')\n",
    "    print ('baye')\n",
    "salambye() "
   ]
  },
  {
   "cell_type": "code",
   "execution_count": 14,
   "id": "baca6ce3",
   "metadata": {},
   "outputs": [
    {
     "name": "stdout",
     "output_type": "stream",
     "text": [
      "salam emad\n",
      "baye emad\n"
     ]
    }
   ],
   "source": [
    "def salambye(name):\n",
    "    print ('salam',name)\n",
    "    print ('baye',name)\n",
    "salambye('emad') "
   ]
  },
  {
   "cell_type": "code",
   "execution_count": 18,
   "id": "5389ddda",
   "metadata": {},
   "outputs": [
    {
     "name": "stdout",
     "output_type": "stream",
     "text": [
      "10\n"
     ]
    }
   ],
   "source": [
    "def jam(a,b):\n",
    "    javab=a+b\n",
    "    return javab\n",
    "adade1=4\n",
    "adade2=6\n",
    "jam2ta=jam(adade1,adade2)\n",
    "print(jam2ta)"
   ]
  },
  {
   "cell_type": "markdown",
   "id": "0cc33a28",
   "metadata": {},
   "source": [
    "# iteration\n",
    "\n",
    "## while\n",
    "se2 ep02"
   ]
  },
  {
   "cell_type": "code",
   "execution_count": 1,
   "id": "c64b32b8",
   "metadata": {},
   "outputs": [
    {
     "name": "stdout",
     "output_type": "stream",
     "text": [
      "10\n",
      "9\n",
      "8\n",
      "7\n",
      "6\n"
     ]
    }
   ],
   "source": [
    "n=10\n",
    "while n >5:\n",
    "    print (n)\n",
    "    n=n-1"
   ]
  },
  {
   "cell_type": "code",
   "execution_count": 2,
   "id": "3097c4bc",
   "metadata": {},
   "outputs": [
    {
     "name": "stdout",
     "output_type": "stream",
     "text": [
      "what is your name? ali\n",
      "salam  ali\n",
      "what is your name? emad\n",
      "salam  emad\n",
      "what is your name? babak\n",
      "salam  babak\n",
      "what is your name? end\n"
     ]
    }
   ],
   "source": [
    "name = input ('what is your name? ')\n",
    "while name !='end':\n",
    "    print ('salam ', name)\n",
    "    name = input ('what is your name? ')"
   ]
  },
  {
   "cell_type": "code",
   "execution_count": 6,
   "id": "b15b0e5d",
   "metadata": {},
   "outputs": [
    {
     "name": "stdout",
     "output_type": "stream",
     "text": [
      "6\n",
      "7\n",
      "8\n",
      "9\n",
      "10\n",
      "11\n",
      "12\n"
     ]
    }
   ],
   "source": [
    "n=6\n",
    "while n>5 :\n",
    "    print (n)\n",
    "    n=n+1\n",
    "    if n==13:\n",
    "        break\n"
   ]
  },
  {
   "cell_type": "markdown",
   "id": "96da5819",
   "metadata": {},
   "source": [
    "# iteration\n",
    "\n",
    "### for\n",
    "s02 ep03"
   ]
  },
  {
   "cell_type": "code",
   "execution_count": 9,
   "id": "7c49f1e4",
   "metadata": {},
   "outputs": [
    {
     "name": "stdout",
     "output_type": "stream",
     "text": [
      "1 1\n",
      "2 4\n",
      "3 9\n",
      "4 16\n",
      "5 25\n"
     ]
    }
   ],
   "source": [
    "for i in range (1,10) :\n",
    "    print (i,i**2)\n",
    "    if i==5 :\n",
    "        break"
   ]
  },
  {
   "cell_type": "code",
   "execution_count": 12,
   "id": "fe9a087e",
   "metadata": {
    "scrolled": true
   },
   "outputs": [
    {
     "name": "stdout",
     "output_type": "stream",
     "text": [
      "salam  babk\n",
      "salam  sphr\n",
      "salam  ali\n",
      "3\n"
     ]
    }
   ],
   "source": [
    "freind =['babk','sphr','ali']\n",
    "count =0\n",
    "for thisone in freind :\n",
    "    count+=1\n",
    "    print ('salam ',thisone)\n",
    "print(count)"
   ]
  },
  {
   "cell_type": "markdown",
   "id": "3809bfc8",
   "metadata": {},
   "source": [
    "# write game\n",
    "\n",
    "\n",
    "s02 ep04"
   ]
  },
  {
   "cell_type": "code",
   "execution_count": 27,
   "id": "c54b0aa0",
   "metadata": {},
   "outputs": [
    {
     "name": "stdout",
     "output_type": "stream",
     "text": [
      "please enter a number :60\n",
      " mine is smaller\n",
      "please enter a number :50\n",
      " mine is smaller\n",
      "please enter a number :40\n",
      " mine is smaller\n",
      "please enter a number :30\n",
      " mine is smaller\n",
      "please enter a number :20\n",
      " mine is bigger\n",
      "please enter a number :25\n",
      " mine is bigger\n",
      "please enter a number :26\n",
      " mine is bigger\n",
      "please enter a number :27\n",
      " mine is bigger\n",
      "please enter a number :28\n",
      " mine is bigger\n",
      "please enter a number :29\n",
      " waoooo !! you did it\n"
     ]
    }
   ],
   "source": [
    "import random\n",
    "javab= random.randint(1,100)\n",
    "h = input('please enter a number :')\n",
    "h= int(h)\n",
    "while h!= javab:\n",
    "    if h >javab :\n",
    "        print (' mine is smaller')\n",
    "    else :\n",
    "        print (' mine is bigger')\n",
    "    h= input('please enter a number :')\n",
    "    h=int(h)\n",
    "print (' waoooo !! you did it')"
   ]
  },
  {
   "cell_type": "markdown",
   "id": "540a2b84",
   "metadata": {},
   "source": [
    "# string\n",
    "\n",
    "\n",
    "s03 ep01"
   ]
  },
  {
   "cell_type": "code",
   "execution_count": 31,
   "id": "505f58df",
   "metadata": {},
   "outputs": [
    {
     "data": {
      "text/plain": [
       "3"
      ]
     },
     "execution_count": 31,
     "metadata": {},
     "output_type": "execute_result"
    }
   ],
   "source": [
    "len ('Dad')"
   ]
  },
  {
   "cell_type": "code",
   "execution_count": 34,
   "id": "43815748",
   "metadata": {},
   "outputs": [
    {
     "name": "stdout",
     "output_type": "stream",
     "text": [
      "0 s\n",
      "1 a\n",
      "2 l\n",
      "3 a\n",
      "4 m\n"
     ]
    }
   ],
   "source": [
    "a='salam'\n",
    "tool = len(a)\n",
    "for i in range (0,tool):\n",
    "    print (i,a[i])"
   ]
  },
  {
   "cell_type": "code",
   "execution_count": 35,
   "id": "252dd0a6",
   "metadata": {},
   "outputs": [
    {
     "name": "stdout",
     "output_type": "stream",
     "text": [
      "s\n",
      "a\n",
      "l\n",
      "a\n",
      "m\n",
      " \n",
      "k\n",
      "o\n",
      "j\n",
      "a\n",
      "i\n",
      "e\n"
     ]
    }
   ],
   "source": [
    "a='salam kojaie'\n",
    "tool = len(a)\n",
    "for i in range (0,tool):\n",
    "    print (a[i])"
   ]
  },
  {
   "cell_type": "code",
   "execution_count": 36,
   "id": "005ed5d3",
   "metadata": {},
   "outputs": [
    {
     "name": "stdout",
     "output_type": "stream",
     "text": [
      "m\n",
      "y\n",
      " \n",
      "s\n",
      "t\n",
      "r\n",
      "i\n",
      "n\n",
      "g\n",
      " \n"
     ]
    }
   ],
   "source": [
    "for letter in 'my string ':\n",
    "    print (letter)"
   ]
  },
  {
   "cell_type": "code",
   "execution_count": 42,
   "id": "807ef7a8",
   "metadata": {},
   "outputs": [
    {
     "name": "stdout",
     "output_type": "stream",
     "text": [
      "5\n"
     ]
    },
    {
     "data": {
      "text/plain": [
       "27"
      ]
     },
     "execution_count": 42,
     "metadata": {},
     "output_type": "execute_result"
    }
   ],
   "source": [
    " string ='hi my name is emad barandan'\n",
    "count = 0\n",
    "for letter in string :\n",
    "    if letter =='a':\n",
    "        count +=1\n",
    "print (count)\n",
    "len (string)"
   ]
  },
  {
   "cell_type": "code",
   "execution_count": 62,
   "id": "484b898a",
   "metadata": {},
   "outputs": [
    {
     "data": {
      "text/plain": [
       "'n'"
      ]
     },
     "execution_count": 62,
     "metadata": {},
     "output_type": "execute_result"
    }
   ],
   "source": [
    "# slice\n",
    "s ='man daram miram'\n",
    "s[2]"
   ]
  },
  {
   "cell_type": "code",
   "execution_count": 63,
   "id": "8049cb26",
   "metadata": {},
   "outputs": [
    {
     "data": {
      "text/plain": [
       "'man'"
      ]
     },
     "execution_count": 63,
     "metadata": {},
     "output_type": "execute_result"
    }
   ],
   "source": [
    "s[:3]"
   ]
  },
  {
   "cell_type": "code",
   "execution_count": 64,
   "id": "2adaa10b",
   "metadata": {},
   "outputs": [
    {
     "data": {
      "text/plain": [
       "' daram miram'"
      ]
     },
     "execution_count": 64,
     "metadata": {},
     "output_type": "execute_result"
    }
   ],
   "source": [
    "s[3:]"
   ]
  },
  {
   "cell_type": "code",
   "execution_count": 65,
   "id": "84390dac",
   "metadata": {},
   "outputs": [
    {
     "data": {
      "text/plain": [
       "'an daram miram'"
      ]
     },
     "execution_count": 65,
     "metadata": {},
     "output_type": "execute_result"
    }
   ],
   "source": [
    "s[1:]"
   ]
  },
  {
   "cell_type": "code",
   "execution_count": 68,
   "id": "9300cbed",
   "metadata": {},
   "outputs": [
    {
     "data": {
      "text/plain": [
       "'Man daram miram'"
      ]
     },
     "execution_count": 68,
     "metadata": {},
     "output_type": "execute_result"
    }
   ],
   "source": [
    "s='M'+s[1:]\n",
    "s"
   ]
  },
  {
   "cell_type": "markdown",
   "id": "66da507a",
   "metadata": {},
   "source": [
    "# method class\n",
    "\n",
    "\n",
    "\n",
    "s03 ep02"
   ]
  },
  {
   "cell_type": "code",
   "execution_count": 70,
   "id": "1e16e877",
   "metadata": {},
   "outputs": [
    {
     "data": {
      "text/plain": [
       "False"
      ]
     },
     "execution_count": 70,
     "metadata": {},
     "output_type": "execute_result"
    }
   ],
   "source": [
    "a in 'emad'"
   ]
  },
  {
   "cell_type": "code",
   "execution_count": 71,
   "id": "37343926",
   "metadata": {},
   "outputs": [
    {
     "data": {
      "text/plain": [
       "False"
      ]
     },
     "execution_count": 71,
     "metadata": {},
     "output_type": "execute_result"
    }
   ],
   "source": [
    "'an'>'b'"
   ]
  },
  {
   "cell_type": "code",
   "execution_count": 72,
   "id": "c106c3cc",
   "metadata": {},
   "outputs": [
    {
     "data": {
      "text/plain": [
       "True"
      ]
     },
     "execution_count": 72,
     "metadata": {},
     "output_type": "execute_result"
    }
   ],
   "source": [
    "'a'>'A'"
   ]
  },
  {
   "cell_type": "code",
   "execution_count": 73,
   "id": "f1ee38a3",
   "metadata": {},
   "outputs": [
    {
     "data": {
      "text/plain": [
       "str"
      ]
     },
     "execution_count": 73,
     "metadata": {},
     "output_type": "execute_result"
    }
   ],
   "source": [
    "type ('hello')"
   ]
  },
  {
   "cell_type": "code",
   "execution_count": 77,
   "id": "d6fdfc42",
   "metadata": {},
   "outputs": [
    {
     "data": {
      "text/plain": [
       "'EMAD'"
      ]
     },
     "execution_count": 77,
     "metadata": {},
     "output_type": "execute_result"
    }
   ],
   "source": [
    "'emad'.upper()"
   ]
  },
  {
   "cell_type": "code",
   "execution_count": 76,
   "id": "24359a41",
   "metadata": {},
   "outputs": [
    {
     "data": {
      "text/plain": [
       "['__add__',\n",
       " '__class__',\n",
       " '__contains__',\n",
       " '__delattr__',\n",
       " '__dir__',\n",
       " '__doc__',\n",
       " '__eq__',\n",
       " '__format__',\n",
       " '__ge__',\n",
       " '__getattribute__',\n",
       " '__getitem__',\n",
       " '__getnewargs__',\n",
       " '__gt__',\n",
       " '__hash__',\n",
       " '__init__',\n",
       " '__init_subclass__',\n",
       " '__iter__',\n",
       " '__le__',\n",
       " '__len__',\n",
       " '__lt__',\n",
       " '__mod__',\n",
       " '__mul__',\n",
       " '__ne__',\n",
       " '__new__',\n",
       " '__reduce__',\n",
       " '__reduce_ex__',\n",
       " '__repr__',\n",
       " '__rmod__',\n",
       " '__rmul__',\n",
       " '__setattr__',\n",
       " '__sizeof__',\n",
       " '__str__',\n",
       " '__subclasshook__',\n",
       " 'capitalize',\n",
       " 'casefold',\n",
       " 'center',\n",
       " 'count',\n",
       " 'encode',\n",
       " 'endswith',\n",
       " 'expandtabs',\n",
       " 'find',\n",
       " 'format',\n",
       " 'format_map',\n",
       " 'index',\n",
       " 'isalnum',\n",
       " 'isalpha',\n",
       " 'isascii',\n",
       " 'isdecimal',\n",
       " 'isdigit',\n",
       " 'isidentifier',\n",
       " 'islower',\n",
       " 'isnumeric',\n",
       " 'isprintable',\n",
       " 'isspace',\n",
       " 'istitle',\n",
       " 'isupper',\n",
       " 'join',\n",
       " 'ljust',\n",
       " 'lower',\n",
       " 'lstrip',\n",
       " 'maketrans',\n",
       " 'partition',\n",
       " 'removeprefix',\n",
       " 'removesuffix',\n",
       " 'replace',\n",
       " 'rfind',\n",
       " 'rindex',\n",
       " 'rjust',\n",
       " 'rpartition',\n",
       " 'rsplit',\n",
       " 'rstrip',\n",
       " 'split',\n",
       " 'splitlines',\n",
       " 'startswith',\n",
       " 'strip',\n",
       " 'swapcase',\n",
       " 'title',\n",
       " 'translate',\n",
       " 'upper',\n",
       " 'zfill']"
      ]
     },
     "execution_count": 76,
     "metadata": {},
     "output_type": "execute_result"
    }
   ],
   "source": [
    "dir('emad')"
   ]
  },
  {
   "cell_type": "code",
   "execution_count": 78,
   "id": "0b41c7cb",
   "metadata": {},
   "outputs": [
    {
     "name": "stdout",
     "output_type": "stream",
     "text": [
      "Help on method_descriptor:\n",
      "\n",
      "count(...)\n",
      "    S.count(sub[, start[, end]]) -> int\n",
      "    \n",
      "    Return the number of non-overlapping occurrences of substring sub in\n",
      "    string S[start:end].  Optional arguments start and end are\n",
      "    interpreted as in slice notation.\n",
      "\n"
     ]
    }
   ],
   "source": [
    "help(str.count)"
   ]
  },
  {
   "cell_type": "code",
   "execution_count": 80,
   "id": "8768e05d",
   "metadata": {},
   "outputs": [
    {
     "data": {
      "text/plain": [
       "3"
      ]
     },
     "execution_count": 80,
     "metadata": {},
     "output_type": "execute_result"
    }
   ],
   "source": [
    "'salam emad'.count('a')"
   ]
  },
  {
   "cell_type": "code",
   "execution_count": 81,
   "id": "1e30e5db",
   "metadata": {},
   "outputs": [],
   "source": [
    "s='hello'"
   ]
  },
  {
   "cell_type": "code",
   "execution_count": 82,
   "id": "dd3a921b",
   "metadata": {},
   "outputs": [
    {
     "data": {
      "text/plain": [
       "'HELLO'"
      ]
     },
     "execution_count": 82,
     "metadata": {},
     "output_type": "execute_result"
    }
   ],
   "source": [
    "s.upper()"
   ]
  },
  {
   "cell_type": "code",
   "execution_count": 83,
   "id": "fc429076",
   "metadata": {},
   "outputs": [
    {
     "data": {
      "text/plain": [
       "2"
      ]
     },
     "execution_count": 83,
     "metadata": {},
     "output_type": "execute_result"
    }
   ],
   "source": [
    "s.find('l')"
   ]
  },
  {
   "cell_type": "code",
   "execution_count": 84,
   "id": "74e0a902",
   "metadata": {},
   "outputs": [
    {
     "data": {
      "text/plain": [
       "3"
      ]
     },
     "execution_count": 84,
     "metadata": {},
     "output_type": "execute_result"
    }
   ],
   "source": [
    "s.find('l',3)"
   ]
  },
  {
   "cell_type": "code",
   "execution_count": 87,
   "id": "6b25b79e",
   "metadata": {},
   "outputs": [
    {
     "data": {
      "text/plain": [
       "'hsdbhdhjsd'"
      ]
     },
     "execution_count": 87,
     "metadata": {},
     "output_type": "execute_result"
    }
   ],
   "source": [
    "'    hsdbhdhjsd   '.strip()"
   ]
  },
  {
   "cell_type": "code",
   "execution_count": 89,
   "id": "74398922",
   "metadata": {},
   "outputs": [
    {
     "data": {
      "text/plain": [
       "True"
      ]
     },
     "execution_count": 89,
     "metadata": {},
     "output_type": "execute_result"
    }
   ],
   "source": [
    "'hello'.startswith('h')"
   ]
  },
  {
   "cell_type": "code",
   "execution_count": 91,
   "id": "0c1eb7eb",
   "metadata": {},
   "outputs": [
    {
     "data": {
      "text/plain": [
       "False"
      ]
     },
     "execution_count": 91,
     "metadata": {},
     "output_type": "execute_result"
    }
   ],
   "source": [
    "'Hello'.startswith('h')"
   ]
  },
  {
   "cell_type": "code",
   "execution_count": 94,
   "id": "12c0c504",
   "metadata": {},
   "outputs": [
    {
     "data": {
      "text/plain": [
       "'hello'"
      ]
     },
     "execution_count": 94,
     "metadata": {},
     "output_type": "execute_result"
    }
   ],
   "source": [
    "'Hello'.lower()"
   ]
  },
  {
   "cell_type": "code",
   "execution_count": 96,
   "id": "d09dc3ff",
   "metadata": {},
   "outputs": [
    {
     "name": "stdout",
     "output_type": "stream",
     "text": [
      "hello\n"
     ]
    }
   ],
   "source": [
    "print ('hello')"
   ]
  },
  {
   "cell_type": "code",
   "execution_count": 101,
   "id": "ad3ff238",
   "metadata": {},
   "outputs": [],
   "source": [
    "name = 'emad'\n",
    "sen = 40"
   ]
  },
  {
   "cell_type": "code",
   "execution_count": 98,
   "id": "56e2bb25",
   "metadata": {},
   "outputs": [
    {
     "name": "stdout",
     "output_type": "stream",
     "text": [
      "hello emad\n"
     ]
    }
   ],
   "source": [
    "print ('hello' ,name)"
   ]
  },
  {
   "cell_type": "code",
   "execution_count": 105,
   "id": "835fa80c",
   "metadata": {},
   "outputs": [
    {
     "name": "stdout",
     "output_type": "stream",
     "text": [
      "hello emad chetori? midoni 40 shode!!\n"
     ]
    }
   ],
   "source": [
    "print ('hello %s chetori? midoni %s shode!!' %(name ,sen))"
   ]
  },
  {
   "cell_type": "markdown",
   "id": "b4210cfa",
   "metadata": {},
   "source": [
    "# list & methods\n",
    "\n",
    "s03 ep03"
   ]
  },
  {
   "cell_type": "code",
   "execution_count": 107,
   "id": "286798a4",
   "metadata": {},
   "outputs": [],
   "source": [
    "l=[2,12,3,4,45,5,6,7,26]"
   ]
  },
  {
   "cell_type": "code",
   "execution_count": 108,
   "id": "b5f3b852",
   "metadata": {},
   "outputs": [
    {
     "data": {
      "text/plain": [
       "3"
      ]
     },
     "execution_count": 108,
     "metadata": {},
     "output_type": "execute_result"
    }
   ],
   "source": [
    "l[2]"
   ]
  },
  {
   "cell_type": "code",
   "execution_count": 109,
   "id": "7d98edd4",
   "metadata": {},
   "outputs": [
    {
     "data": {
      "text/plain": [
       "[2, 12, 3]"
      ]
     },
     "execution_count": 109,
     "metadata": {},
     "output_type": "execute_result"
    }
   ],
   "source": [
    "l[:3]"
   ]
  },
  {
   "cell_type": "code",
   "execution_count": 110,
   "id": "a6e0802c",
   "metadata": {},
   "outputs": [
    {
     "data": {
      "text/plain": [
       "7"
      ]
     },
     "execution_count": 110,
     "metadata": {},
     "output_type": "execute_result"
    }
   ],
   "source": [
    "l[-2]"
   ]
  },
  {
   "cell_type": "code",
   "execution_count": 111,
   "id": "405de871",
   "metadata": {},
   "outputs": [],
   "source": [
    "l2=[l,2,[3,4]]"
   ]
  },
  {
   "cell_type": "code",
   "execution_count": 112,
   "id": "cd2b6dc2",
   "metadata": {},
   "outputs": [
    {
     "data": {
      "text/plain": [
       "[[2, 12, 3, 4, 45, 5, 6, 7, 26], 2, [3, 4]]"
      ]
     },
     "execution_count": 112,
     "metadata": {},
     "output_type": "execute_result"
    }
   ],
   "source": [
    "l2"
   ]
  },
  {
   "cell_type": "code",
   "execution_count": 113,
   "id": "c5811c84",
   "metadata": {},
   "outputs": [
    {
     "data": {
      "text/plain": [
       "3"
      ]
     },
     "execution_count": 113,
     "metadata": {},
     "output_type": "execute_result"
    }
   ],
   "source": [
    "len (l2)"
   ]
  },
  {
   "cell_type": "code",
   "execution_count": 115,
   "id": "5bf94a80",
   "metadata": {},
   "outputs": [
    {
     "data": {
      "text/plain": [
       "[2, 12, 3, 4, 45, 5, 6, 7, 26]"
      ]
     },
     "execution_count": 115,
     "metadata": {},
     "output_type": "execute_result"
    }
   ],
   "source": [
    "l2[0]"
   ]
  },
  {
   "cell_type": "code",
   "execution_count": 116,
   "id": "ee110217",
   "metadata": {},
   "outputs": [],
   "source": [
    "l[0]=8"
   ]
  },
  {
   "cell_type": "code",
   "execution_count": 117,
   "id": "ee4ab5d1",
   "metadata": {},
   "outputs": [
    {
     "data": {
      "text/plain": [
       "[8, 12, 3, 4, 45, 5, 6, 7, 26]"
      ]
     },
     "execution_count": 117,
     "metadata": {},
     "output_type": "execute_result"
    }
   ],
   "source": [
    "l"
   ]
  },
  {
   "cell_type": "code",
   "execution_count": 119,
   "id": "fad1ca5b",
   "metadata": {},
   "outputs": [
    {
     "name": "stdout",
     "output_type": "stream",
     "text": [
      "8\n",
      "12\n",
      "3\n",
      "4\n",
      "45\n",
      "5\n",
      "6\n",
      "7\n",
      "26\n"
     ]
    }
   ],
   "source": [
    "for item in l:\n",
    "    print (item)"
   ]
  },
  {
   "cell_type": "code",
   "execution_count": 121,
   "id": "948c5d6a",
   "metadata": {},
   "outputs": [
    {
     "data": {
      "text/plain": [
       "[1, 2, 'emad', 'sphr']"
      ]
     },
     "execution_count": 121,
     "metadata": {},
     "output_type": "execute_result"
    }
   ],
   "source": [
    "l1=[1,2]\n",
    "l2=['emad','sphr']\n",
    "l1+l2"
   ]
  },
  {
   "cell_type": "code",
   "execution_count": 122,
   "id": "40486d4d",
   "metadata": {},
   "outputs": [
    {
     "data": {
      "text/plain": [
       "['emad', 'sphr', 'emad', 'sphr', 'emad', 'sphr']"
      ]
     },
     "execution_count": 122,
     "metadata": {},
     "output_type": "execute_result"
    }
   ],
   "source": [
    "l2*3"
   ]
  },
  {
   "cell_type": "code",
   "execution_count": 123,
   "id": "85f1b2c5",
   "metadata": {},
   "outputs": [
    {
     "data": {
      "text/plain": [
       "list"
      ]
     },
     "execution_count": 123,
     "metadata": {},
     "output_type": "execute_result"
    }
   ],
   "source": [
    "type(l1)"
   ]
  },
  {
   "cell_type": "code",
   "execution_count": 124,
   "id": "8a711871",
   "metadata": {},
   "outputs": [
    {
     "data": {
      "text/plain": [
       "['__add__',\n",
       " '__class__',\n",
       " '__class_getitem__',\n",
       " '__contains__',\n",
       " '__delattr__',\n",
       " '__delitem__',\n",
       " '__dir__',\n",
       " '__doc__',\n",
       " '__eq__',\n",
       " '__format__',\n",
       " '__ge__',\n",
       " '__getattribute__',\n",
       " '__getitem__',\n",
       " '__gt__',\n",
       " '__hash__',\n",
       " '__iadd__',\n",
       " '__imul__',\n",
       " '__init__',\n",
       " '__init_subclass__',\n",
       " '__iter__',\n",
       " '__le__',\n",
       " '__len__',\n",
       " '__lt__',\n",
       " '__mul__',\n",
       " '__ne__',\n",
       " '__new__',\n",
       " '__reduce__',\n",
       " '__reduce_ex__',\n",
       " '__repr__',\n",
       " '__reversed__',\n",
       " '__rmul__',\n",
       " '__setattr__',\n",
       " '__setitem__',\n",
       " '__sizeof__',\n",
       " '__str__',\n",
       " '__subclasshook__',\n",
       " 'append',\n",
       " 'clear',\n",
       " 'copy',\n",
       " 'count',\n",
       " 'extend',\n",
       " 'index',\n",
       " 'insert',\n",
       " 'pop',\n",
       " 'remove',\n",
       " 'reverse',\n",
       " 'sort']"
      ]
     },
     "execution_count": 124,
     "metadata": {},
     "output_type": "execute_result"
    }
   ],
   "source": [
    "dir(l1)"
   ]
  },
  {
   "cell_type": "code",
   "execution_count": 125,
   "id": "f8e5ac24",
   "metadata": {},
   "outputs": [
    {
     "data": {
      "text/plain": [
       "[1, 2, 'new']"
      ]
     },
     "execution_count": 125,
     "metadata": {},
     "output_type": "execute_result"
    }
   ],
   "source": [
    "l1.append('new')\n",
    "l1"
   ]
  },
  {
   "cell_type": "code",
   "execution_count": 127,
   "id": "c43d661b",
   "metadata": {},
   "outputs": [
    {
     "data": {
      "text/plain": [
       "[1, 2, 'new', 5, 6, 7, 5, 6, 7]"
      ]
     },
     "execution_count": 127,
     "metadata": {},
     "output_type": "execute_result"
    }
   ],
   "source": [
    "l1.extend([5,6,7])\n",
    "l1"
   ]
  },
  {
   "cell_type": "code",
   "execution_count": 128,
   "id": "917452b6",
   "metadata": {},
   "outputs": [
    {
     "data": {
      "text/plain": [
       "[1, 2, 5, 6, 7, 5, 6, 7]"
      ]
     },
     "execution_count": 128,
     "metadata": {},
     "output_type": "execute_result"
    }
   ],
   "source": [
    "del l1[2]\n",
    "l1"
   ]
  },
  {
   "cell_type": "code",
   "execution_count": 130,
   "id": "8729d7b3",
   "metadata": {},
   "outputs": [
    {
     "data": {
      "text/plain": [
       "[1, 2, 5, 5, 6, 6, 7, 7]"
      ]
     },
     "execution_count": 130,
     "metadata": {},
     "output_type": "execute_result"
    }
   ],
   "source": [
    "l1.sort()\n",
    "l1"
   ]
  },
  {
   "cell_type": "code",
   "execution_count": 131,
   "id": "43d851e5",
   "metadata": {},
   "outputs": [
    {
     "data": {
      "text/plain": [
       "7"
      ]
     },
     "execution_count": 131,
     "metadata": {},
     "output_type": "execute_result"
    }
   ],
   "source": [
    "l1.pop()"
   ]
  },
  {
   "cell_type": "code",
   "execution_count": 132,
   "id": "3ba0558c",
   "metadata": {},
   "outputs": [
    {
     "data": {
      "text/plain": [
       "[1, 2, 5, 5, 6, 6, 7]"
      ]
     },
     "execution_count": 132,
     "metadata": {},
     "output_type": "execute_result"
    }
   ],
   "source": [
    "l1"
   ]
  },
  {
   "cell_type": "code",
   "execution_count": 136,
   "id": "9ff4a4e2",
   "metadata": {},
   "outputs": [
    {
     "data": {
      "text/plain": [
       "7"
      ]
     },
     "execution_count": 136,
     "metadata": {},
     "output_type": "execute_result"
    }
   ],
   "source": [
    "next =l1.pop()\n",
    "next"
   ]
  },
  {
   "cell_type": "code",
   "execution_count": 137,
   "id": "01645d0a",
   "metadata": {},
   "outputs": [],
   "source": [
    "l1.remove(2)"
   ]
  },
  {
   "cell_type": "code",
   "execution_count": 138,
   "id": "d227b158",
   "metadata": {},
   "outputs": [
    {
     "data": {
      "text/plain": [
       "[1, 5, 5, 6, 6]"
      ]
     },
     "execution_count": 138,
     "metadata": {},
     "output_type": "execute_result"
    }
   ],
   "source": [
    "l1"
   ]
  },
  {
   "cell_type": "code",
   "execution_count": 139,
   "id": "d7d7c92c",
   "metadata": {},
   "outputs": [],
   "source": [
    "l1.remove(5)"
   ]
  },
  {
   "cell_type": "code",
   "execution_count": 140,
   "id": "004f587a",
   "metadata": {},
   "outputs": [
    {
     "data": {
      "text/plain": [
       "[1, 5, 6, 6]"
      ]
     },
     "execution_count": 140,
     "metadata": {},
     "output_type": "execute_result"
    }
   ],
   "source": [
    "l1"
   ]
  },
  {
   "cell_type": "code",
   "execution_count": 141,
   "id": "561eff0d",
   "metadata": {},
   "outputs": [
    {
     "data": {
      "text/plain": [
       "3"
      ]
     },
     "execution_count": 141,
     "metadata": {},
     "output_type": "execute_result"
    }
   ],
   "source": [
    "my =['a','v','g']\n",
    "len(my)"
   ]
  },
  {
   "cell_type": "code",
   "execution_count": 142,
   "id": "6847f0d6",
   "metadata": {},
   "outputs": [
    {
     "data": {
      "text/plain": [
       "'v'"
      ]
     },
     "execution_count": 142,
     "metadata": {},
     "output_type": "execute_result"
    }
   ],
   "source": [
    "max(my)"
   ]
  },
  {
   "cell_type": "code",
   "execution_count": 143,
   "id": "fc160695",
   "metadata": {},
   "outputs": [
    {
     "data": {
      "text/plain": [
       "'a'"
      ]
     },
     "execution_count": 143,
     "metadata": {},
     "output_type": "execute_result"
    }
   ],
   "source": [
    "min(my)"
   ]
  },
  {
   "cell_type": "code",
   "execution_count": 145,
   "id": "a65e6f40",
   "metadata": {},
   "outputs": [
    {
     "data": {
      "text/plain": [
       "[1, 5, 6, 6]"
      ]
     },
     "execution_count": 145,
     "metadata": {},
     "output_type": "execute_result"
    }
   ],
   "source": [
    "l1"
   ]
  },
  {
   "cell_type": "code",
   "execution_count": 146,
   "id": "df1ecc0a",
   "metadata": {},
   "outputs": [
    {
     "data": {
      "text/plain": [
       "18"
      ]
     },
     "execution_count": 146,
     "metadata": {},
     "output_type": "execute_result"
    }
   ],
   "source": [
    "sum(l1)"
   ]
  },
  {
   "cell_type": "code",
   "execution_count": 147,
   "id": "477fc9d7",
   "metadata": {},
   "outputs": [
    {
     "data": {
      "text/plain": [
       "['some', 'words', 'sre', 'here']"
      ]
     },
     "execution_count": 147,
     "metadata": {},
     "output_type": "execute_result"
    }
   ],
   "source": [
    "s='some words sre here'\n",
    "s.split()"
   ]
  },
  {
   "cell_type": "code",
   "execution_count": 150,
   "id": "2f4058f8",
   "metadata": {},
   "outputs": [
    {
     "data": {
      "text/plain": [
       "['salam kojai', '']"
      ]
     },
     "execution_count": 150,
     "metadata": {},
     "output_type": "execute_result"
    }
   ],
   "source": [
    "a.split('e')"
   ]
  },
  {
   "cell_type": "code",
   "execution_count": 152,
   "id": "295f184e",
   "metadata": {},
   "outputs": [
    {
     "data": {
      "text/plain": [
       "['some', 'words', 'sre', 'here']"
      ]
     },
     "execution_count": 152,
     "metadata": {},
     "output_type": "execute_result"
    }
   ],
   "source": [
    "a=s.split()\n",
    "a"
   ]
  },
  {
   "cell_type": "code",
   "execution_count": 153,
   "id": "4e70b386",
   "metadata": {},
   "outputs": [
    {
     "data": {
      "text/plain": [
       "'some-words-sre-here'"
      ]
     },
     "execution_count": 153,
     "metadata": {},
     "output_type": "execute_result"
    }
   ],
   "source": [
    "'-'.join(a)"
   ]
  },
  {
   "cell_type": "code",
   "execution_count": 157,
   "id": "31865a7a",
   "metadata": {},
   "outputs": [
    {
     "data": {
      "text/plain": [
       "True"
      ]
     },
     "execution_count": 157,
     "metadata": {},
     "output_type": "execute_result"
    }
   ],
   "source": [
    "a='salam'\n",
    "b='salam'\n",
    "a is b"
   ]
  },
  {
   "cell_type": "code",
   "execution_count": 158,
   "id": "78eb3dcf",
   "metadata": {},
   "outputs": [
    {
     "data": {
      "text/plain": [
       "str"
      ]
     },
     "execution_count": 158,
     "metadata": {},
     "output_type": "execute_result"
    }
   ],
   "source": [
    "type(a)"
   ]
  },
  {
   "cell_type": "code",
   "execution_count": 159,
   "id": "2d79d625",
   "metadata": {},
   "outputs": [
    {
     "data": {
      "text/plain": [
       "False"
      ]
     },
     "execution_count": 159,
     "metadata": {},
     "output_type": "execute_result"
    }
   ],
   "source": [
    "b=[1,2,3]\n",
    "a==b"
   ]
  },
  {
   "cell_type": "code",
   "execution_count": 164,
   "id": "fc2e6b35",
   "metadata": {},
   "outputs": [
    {
     "data": {
      "text/plain": [
       "False"
      ]
     },
     "execution_count": 164,
     "metadata": {},
     "output_type": "execute_result"
    }
   ],
   "source": [
    "a is b"
   ]
  },
  {
   "cell_type": "markdown",
   "id": "24f36ddd",
   "metadata": {},
   "source": [
    "# dictionary\n",
    "\n",
    "\n",
    "s03 ep04\n"
   ]
  },
  {
   "cell_type": "code",
   "execution_count": null,
   "id": "dc8a0d57",
   "metadata": {},
   "outputs": [],
   "source": []
  },
  {
   "cell_type": "code",
   "execution_count": 163,
   "id": "369da64c",
   "metadata": {},
   "outputs": [
    {
     "data": {
      "text/plain": [
       "{'yek': 'bir', 'do': 'ikki'}"
      ]
     },
     "execution_count": 163,
     "metadata": {},
     "output_type": "execute_result"
    }
   ],
   "source": [
    " f2t= dict()\n",
    "f2t['yek']='bir'\n",
    "f2t['do']='ikki'\n",
    "f2t"
   ]
  },
  {
   "cell_type": "code",
   "execution_count": 167,
   "id": "4011a9de",
   "metadata": {},
   "outputs": [],
   "source": [
    "ghad={'emad':120,'ali':150,'sphr':190}"
   ]
  },
  {
   "cell_type": "code",
   "execution_count": 168,
   "id": "a0073822",
   "metadata": {},
   "outputs": [
    {
     "data": {
      "text/plain": [
       "dict"
      ]
     },
     "execution_count": 168,
     "metadata": {},
     "output_type": "execute_result"
    }
   ],
   "source": [
    "type (ghad)"
   ]
  },
  {
   "cell_type": "code",
   "execution_count": 170,
   "id": "8ebf29a3",
   "metadata": {},
   "outputs": [
    {
     "data": {
      "text/plain": [
       "dict_keys(['emad', 'ali', 'sphr'])"
      ]
     },
     "execution_count": 170,
     "metadata": {},
     "output_type": "execute_result"
    }
   ],
   "source": [
    "ghad.keys()"
   ]
  },
  {
   "cell_type": "code",
   "execution_count": 171,
   "id": "242a058c",
   "metadata": {},
   "outputs": [
    {
     "data": {
      "text/plain": [
       "{'emad': 120, 'ali': 150, 'sphr': 190}"
      ]
     },
     "execution_count": 171,
     "metadata": {},
     "output_type": "execute_result"
    }
   ],
   "source": [
    "ghad"
   ]
  },
  {
   "cell_type": "code",
   "execution_count": 172,
   "id": "b100869f",
   "metadata": {},
   "outputs": [
    {
     "data": {
      "text/plain": [
       "190"
      ]
     },
     "execution_count": 172,
     "metadata": {},
     "output_type": "execute_result"
    }
   ],
   "source": [
    "ghad['sphr']"
   ]
  },
  {
   "cell_type": "code",
   "execution_count": 173,
   "id": "eb1a4cce",
   "metadata": {},
   "outputs": [
    {
     "data": {
      "text/plain": [
       "'bir'"
      ]
     },
     "execution_count": 173,
     "metadata": {},
     "output_type": "execute_result"
    }
   ],
   "source": [
    "f2t['yek']"
   ]
  },
  {
   "cell_type": "code",
   "execution_count": 175,
   "id": "f811c93e",
   "metadata": {},
   "outputs": [
    {
     "data": {
      "text/plain": [
       "2"
      ]
     },
     "execution_count": 175,
     "metadata": {},
     "output_type": "execute_result"
    }
   ],
   "source": [
    "len(f2t)"
   ]
  },
  {
   "cell_type": "code",
   "execution_count": 178,
   "id": "56cab75b",
   "metadata": {},
   "outputs": [
    {
     "data": {
      "text/plain": [
       "['emad', 'ali', 'sphr']"
      ]
     },
     "execution_count": 178,
     "metadata": {},
     "output_type": "execute_result"
    }
   ],
   "source": [
    "list (ghad.keys())"
   ]
  },
  {
   "cell_type": "code",
   "execution_count": 179,
   "id": "5d96f0b1",
   "metadata": {},
   "outputs": [
    {
     "data": {
      "text/plain": [
       "dict_values([120, 150, 190])"
      ]
     },
     "execution_count": 179,
     "metadata": {},
     "output_type": "execute_result"
    }
   ],
   "source": [
    "ghad.values()"
   ]
  },
  {
   "cell_type": "code",
   "execution_count": 180,
   "id": "e1c083b1",
   "metadata": {},
   "outputs": [
    {
     "data": {
      "text/plain": [
       "[120, 150, 190]"
      ]
     },
     "execution_count": 180,
     "metadata": {},
     "output_type": "execute_result"
    }
   ],
   "source": [
    "list(ghad.values())"
   ]
  },
  {
   "cell_type": "code",
   "execution_count": 181,
   "id": "2fd72b43",
   "metadata": {},
   "outputs": [
    {
     "data": {
      "text/plain": [
       "True"
      ]
     },
     "execution_count": 181,
     "metadata": {},
     "output_type": "execute_result"
    }
   ],
   "source": [
    "'emad' in ghad"
   ]
  },
  {
   "cell_type": "code",
   "execution_count": 182,
   "id": "4933ca7a",
   "metadata": {},
   "outputs": [
    {
     "data": {
      "text/plain": [
       "False"
      ]
     },
     "execution_count": 182,
     "metadata": {},
     "output_type": "execute_result"
    }
   ],
   "source": [
    "'em'in ghad"
   ]
  },
  {
   "cell_type": "code",
   "execution_count": 193,
   "id": "b4ee484e",
   "metadata": {},
   "outputs": [
    {
     "name": "stdout",
     "output_type": "stream",
     "text": [
      "e appread 4 times \n",
      "m appread 1 times \n",
      "a appread 3 times \n",
      "d appread 2 times \n",
      "  appread 5 times \n",
      "i appread 1 times \n",
      "h appread 2 times \n",
      "r appread 2 times \n",
      "n appread 3 times \n",
      "l appread 1 times \n",
      "p appread 1 times \n",
      "y appread 1 times \n",
      "t appread 1 times \n",
      "o appread 1 times \n"
     ]
    }
   ],
   "source": [
    "string ='emad i here and learn python'\n",
    "counter =dict()\n",
    "for letter in string:\n",
    "    if letter in counter :\n",
    "        counter[letter]+=1\n",
    "    else:\n",
    "        counter[letter]=1\n",
    "    \n",
    "for this_one in list(counter.keys()):\n",
    "    print('%s appread %s times '%(this_one ,counter[this_one]))"
   ]
  },
  {
   "cell_type": "code",
   "execution_count": 194,
   "id": "df1c1c20",
   "metadata": {},
   "outputs": [
    {
     "data": {
      "text/plain": [
       "120"
      ]
     },
     "execution_count": 194,
     "metadata": {},
     "output_type": "execute_result"
    }
   ],
   "source": [
    "ghad.get('emad')"
   ]
  },
  {
   "cell_type": "code",
   "execution_count": 195,
   "id": "a3c82b79",
   "metadata": {},
   "outputs": [
    {
     "data": {
      "text/plain": [
       "1"
      ]
     },
     "execution_count": 195,
     "metadata": {},
     "output_type": "execute_result"
    }
   ],
   "source": [
    "ghad.get('emssad',1)"
   ]
  },
  {
   "cell_type": "code",
   "execution_count": 197,
   "id": "cd0d7392",
   "metadata": {},
   "outputs": [
    {
     "name": "stdout",
     "output_type": "stream",
     "text": [
      "e appread 4 times \n",
      "m appread 1 times \n",
      "a appread 3 times \n",
      "d appread 2 times \n",
      "  appread 5 times \n",
      "i appread 1 times \n",
      "h appread 2 times \n",
      "r appread 2 times \n",
      "n appread 3 times \n",
      "l appread 1 times \n",
      "p appread 1 times \n",
      "y appread 1 times \n",
      "t appread 1 times \n",
      "o appread 1 times \n"
     ]
    }
   ],
   "source": [
    "string ='emad i here and learn python'\n",
    "counter =dict()\n",
    "for letter in string:\n",
    "    counter[letter]=counter.get(letter,0)+1 \n",
    "for this_one in list(counter.keys()):\n",
    "    print('%s appread %s times '%(this_one ,counter[this_one]))"
   ]
  },
  {
   "cell_type": "markdown",
   "id": "184b3346",
   "metadata": {},
   "source": [
    "# tuple\n",
    " \n",
    "s03 ep05"
   ]
  },
  {
   "cell_type": "code",
   "execution_count": 198,
   "id": "6d73f2e8",
   "metadata": {},
   "outputs": [
    {
     "data": {
      "text/plain": [
       "(1, 2, 3, 4)"
      ]
     },
     "execution_count": 198,
     "metadata": {},
     "output_type": "execute_result"
    }
   ],
   "source": [
    "t=(1,2,3,4)\n",
    "t"
   ]
  },
  {
   "cell_type": "code",
   "execution_count": 199,
   "id": "7ca1f158",
   "metadata": {},
   "outputs": [
    {
     "data": {
      "text/plain": [
       "tuple"
      ]
     },
     "execution_count": 199,
     "metadata": {},
     "output_type": "execute_result"
    }
   ],
   "source": [
    "type(t)"
   ]
  },
  {
   "cell_type": "code",
   "execution_count": 200,
   "id": "04767c50",
   "metadata": {},
   "outputs": [
    {
     "data": {
      "text/plain": [
       "1"
      ]
     },
     "execution_count": 200,
     "metadata": {},
     "output_type": "execute_result"
    }
   ],
   "source": [
    "t[0]"
   ]
  },
  {
   "cell_type": "code",
   "execution_count": 201,
   "id": "c1c48a6e",
   "metadata": {},
   "outputs": [],
   "source": [
    "t=tuple()"
   ]
  },
  {
   "cell_type": "code",
   "execution_count": 202,
   "id": "f6dc1c33",
   "metadata": {},
   "outputs": [],
   "source": [
    "t=(0,1,2,3,4,'emad')"
   ]
  },
  {
   "cell_type": "code",
   "execution_count": 203,
   "id": "2cd69ae7",
   "metadata": {},
   "outputs": [
    {
     "data": {
      "text/plain": [
       "(1, 2)"
      ]
     },
     "execution_count": 203,
     "metadata": {},
     "output_type": "execute_result"
    }
   ],
   "source": [
    "t[1:3]"
   ]
  },
  {
   "cell_type": "code",
   "execution_count": 204,
   "id": "15ed72a9",
   "metadata": {},
   "outputs": [
    {
     "data": {
      "text/plain": [
       "(2, 3, 4, 'emad')"
      ]
     },
     "execution_count": 204,
     "metadata": {},
     "output_type": "execute_result"
    }
   ],
   "source": [
    "t[2:]"
   ]
  },
  {
   "cell_type": "code",
   "execution_count": 205,
   "id": "9012da08",
   "metadata": {},
   "outputs": [],
   "source": [
    "a=[1,2]\n"
   ]
  },
  {
   "cell_type": "code",
   "execution_count": 206,
   "id": "f1d8e4b4",
   "metadata": {},
   "outputs": [],
   "source": [
    "x,y=a"
   ]
  },
  {
   "cell_type": "code",
   "execution_count": 207,
   "id": "75166485",
   "metadata": {},
   "outputs": [
    {
     "data": {
      "text/plain": [
       "1"
      ]
     },
     "execution_count": 207,
     "metadata": {},
     "output_type": "execute_result"
    }
   ],
   "source": [
    "x"
   ]
  },
  {
   "cell_type": "code",
   "execution_count": 208,
   "id": "3fe11d8b",
   "metadata": {},
   "outputs": [
    {
     "data": {
      "text/plain": [
       "2"
      ]
     },
     "execution_count": 208,
     "metadata": {},
     "output_type": "execute_result"
    }
   ],
   "source": [
    "y"
   ]
  },
  {
   "cell_type": "code",
   "execution_count": 209,
   "id": "4bf2dfe4",
   "metadata": {},
   "outputs": [],
   "source": [
    "x,y=4,5"
   ]
  },
  {
   "cell_type": "code",
   "execution_count": 210,
   "id": "cec4f973",
   "metadata": {},
   "outputs": [
    {
     "data": {
      "text/plain": [
       "4"
      ]
     },
     "execution_count": 210,
     "metadata": {},
     "output_type": "execute_result"
    }
   ],
   "source": [
    "x"
   ]
  },
  {
   "cell_type": "code",
   "execution_count": 211,
   "id": "36b983e4",
   "metadata": {},
   "outputs": [
    {
     "data": {
      "text/plain": [
       "5"
      ]
     },
     "execution_count": 211,
     "metadata": {},
     "output_type": "execute_result"
    }
   ],
   "source": [
    "y"
   ]
  },
  {
   "cell_type": "code",
   "execution_count": 217,
   "id": "a9b3bc1e",
   "metadata": {},
   "outputs": [
    {
     "data": {
      "text/plain": [
       "['emad.barandan', 'yahoo.com']"
      ]
     },
     "execution_count": 217,
     "metadata": {},
     "output_type": "execute_result"
    }
   ],
   "source": [
    "email ='emad.barandan@yahoo.com'\n",
    "email.split('@')"
   ]
  },
  {
   "cell_type": "code",
   "execution_count": 218,
   "id": "4fd3c803",
   "metadata": {},
   "outputs": [
    {
     "data": {
      "text/plain": [
       "'emad.barandan'"
      ]
     },
     "execution_count": 218,
     "metadata": {},
     "output_type": "execute_result"
    }
   ],
   "source": [
    "name , domin =email.split('@')\n",
    "name"
   ]
  },
  {
   "cell_type": "code",
   "execution_count": 219,
   "id": "5cda8787",
   "metadata": {},
   "outputs": [
    {
     "data": {
      "text/plain": [
       "'yahoo.com'"
      ]
     },
     "execution_count": 219,
     "metadata": {},
     "output_type": "execute_result"
    }
   ],
   "source": [
    "domin"
   ]
  },
  {
   "cell_type": "code",
   "execution_count": 220,
   "id": "d4dbbb3b",
   "metadata": {},
   "outputs": [],
   "source": [
    "vazn = {'emad':75,'ali':62,'sphr':69,'jafar':80}"
   ]
  },
  {
   "cell_type": "code",
   "execution_count": 223,
   "id": "adf3bc3d",
   "metadata": {},
   "outputs": [
    {
     "data": {
      "text/plain": [
       "dict_items([('emad', 75), ('ali', 62), ('sphr', 69), ('jafar', 80)])"
      ]
     },
     "execution_count": 223,
     "metadata": {},
     "output_type": "execute_result"
    }
   ],
   "source": [
    "vazn.items()"
   ]
  },
  {
   "cell_type": "code",
   "execution_count": 224,
   "id": "7f59e583",
   "metadata": {},
   "outputs": [
    {
     "data": {
      "text/plain": [
       "[('emad', 75), ('ali', 62), ('sphr', 69), ('jafar', 80)]"
      ]
     },
     "execution_count": 224,
     "metadata": {},
     "output_type": "execute_result"
    }
   ],
   "source": [
    "list(vazn.items())"
   ]
  },
  {
   "cell_type": "code",
   "execution_count": 231,
   "id": "23711801",
   "metadata": {},
   "outputs": [
    {
     "ename": "AttributeError",
     "evalue": "'int' object has no attribute 'items'",
     "output_type": "error",
     "traceback": [
      "\u001b[1;31m---------------------------------------------------------------------------\u001b[0m",
      "\u001b[1;31mAttributeError\u001b[0m                            Traceback (most recent call last)",
      "Input \u001b[1;32mIn [231]\u001b[0m, in \u001b[0;36m<cell line: 1>\u001b[1;34m()\u001b[0m\n\u001b[1;32m----> 1\u001b[0m \u001b[38;5;28;01mfor\u001b[39;00m name , vazn \u001b[38;5;129;01min\u001b[39;00m \u001b[38;5;28mlist\u001b[39m(\u001b[43mvazn\u001b[49m\u001b[38;5;241;43m.\u001b[39;49m\u001b[43mitems\u001b[49m()):\n\u001b[0;32m      2\u001b[0m     \u001b[38;5;28mprint\u001b[39m(\u001b[38;5;124m'\u001b[39m\u001b[38;5;124mvazn \u001b[39m\u001b[38;5;132;01m%s\u001b[39;00m\u001b[38;5;124m taghriban hast \u001b[39m\u001b[38;5;132;01m%s\u001b[39;00m\u001b[38;5;124m'\u001b[39m\u001b[38;5;241m%\u001b[39m(name,vazn))\n",
      "\u001b[1;31mAttributeError\u001b[0m: 'int' object has no attribute 'items'"
     ]
    }
   ],
   "source": [
    "for name , vazn in list(vazn.items()):\n",
    "    print('vazn %s taghriban hast %s'%(name,vazn))"
   ]
  },
  {
   "cell_type": "markdown",
   "id": "8949225b",
   "metadata": {},
   "source": [
    "# library\n",
    "\n",
    "\n",
    "s04 ep01"
   ]
  },
  {
   "cell_type": "code",
   "execution_count": 1,
   "id": "3c018ecc",
   "metadata": {},
   "outputs": [],
   "source": [
    "import random"
   ]
  },
  {
   "cell_type": "code",
   "execution_count": 2,
   "id": "a13bc425",
   "metadata": {},
   "outputs": [],
   "source": [
    "import math"
   ]
  },
  {
   "cell_type": "code",
   "execution_count": 6,
   "id": "dc3045dc",
   "metadata": {},
   "outputs": [
    {
     "data": {
      "text/plain": [
       "0.8509035245341184"
      ]
     },
     "execution_count": 6,
     "metadata": {},
     "output_type": "execute_result"
    }
   ],
   "source": [
    "math.sin(45)"
   ]
  },
  {
   "cell_type": "code",
   "execution_count": 4,
   "id": "162178a8",
   "metadata": {},
   "outputs": [
    {
     "data": {
      "text/plain": [
       "4"
      ]
     },
     "execution_count": 4,
     "metadata": {},
     "output_type": "execute_result"
    }
   ],
   "source": [
    "math.floor(4.3)"
   ]
  },
  {
   "cell_type": "code",
   "execution_count": 5,
   "id": "4b87fdc4",
   "metadata": {},
   "outputs": [],
   "source": [
    "# search standard library in python and read it"
   ]
  },
  {
   "cell_type": "markdown",
   "id": "5a6163a9",
   "metadata": {},
   "source": [
    "# library 2\n",
    "\n",
    "s04 ep02"
   ]
  },
  {
   "cell_type": "code",
   "execution_count": 7,
   "id": "dd22604d",
   "metadata": {},
   "outputs": [],
   "source": [
    "import datetime"
   ]
  },
  {
   "cell_type": "code",
   "execution_count": 8,
   "id": "f03aefec",
   "metadata": {},
   "outputs": [
    {
     "data": {
      "text/plain": [
       "datetime.date(2022, 10, 22)"
      ]
     },
     "execution_count": 8,
     "metadata": {},
     "output_type": "execute_result"
    }
   ],
   "source": [
    "datetime.date.today()"
   ]
  },
  {
   "cell_type": "code",
   "execution_count": 9,
   "id": "d5f331a8",
   "metadata": {},
   "outputs": [],
   "source": [
    "import pandas"
   ]
  },
  {
   "cell_type": "code",
   "execution_count": 11,
   "id": "67c02316",
   "metadata": {},
   "outputs": [],
   "source": [
    "# ipython"
   ]
  },
  {
   "cell_type": "markdown",
   "id": "f3e1dc8a",
   "metadata": {},
   "source": [
    "# file\n",
    "\n",
    "\n",
    "s05 ep1"
   ]
  },
  {
   "cell_type": "code",
   "execution_count": 25,
   "id": "73c4d8e3",
   "metadata": {},
   "outputs": [],
   "source": [
    "f = open('file/1.txt')"
   ]
  },
  {
   "cell_type": "code",
   "execution_count": 20,
   "id": "cc973c7d",
   "metadata": {},
   "outputs": [
    {
     "data": {
      "text/plain": [
       "_io.TextIOWrapper"
      ]
     },
     "execution_count": 20,
     "metadata": {},
     "output_type": "execute_result"
    }
   ],
   "source": [
    "type (f)"
   ]
  },
  {
   "cell_type": "code",
   "execution_count": 26,
   "id": "dfcf97d8",
   "metadata": {},
   "outputs": [
    {
     "data": {
      "text/plain": [
       "'10\\n12\\n5\\n6\\n4\\n3\\n3.5\\n6\\n0.5'"
      ]
     },
     "execution_count": 26,
     "metadata": {},
     "output_type": "execute_result"
    }
   ],
   "source": [
    "f.read()"
   ]
  },
  {
   "cell_type": "code",
   "execution_count": 27,
   "id": "fd1bee1b",
   "metadata": {},
   "outputs": [
    {
     "data": {
      "text/plain": [
       "_io.TextIOWrapper"
      ]
     },
     "execution_count": 27,
     "metadata": {},
     "output_type": "execute_result"
    }
   ],
   "source": [
    "type(f)"
   ]
  },
  {
   "cell_type": "code",
   "execution_count": 29,
   "id": "dfcb28a9",
   "metadata": {},
   "outputs": [
    {
     "data": {
      "text/plain": [
       "<function TextIOWrapper.close()>"
      ]
     },
     "execution_count": 29,
     "metadata": {},
     "output_type": "execute_result"
    }
   ],
   "source": [
    "f.close"
   ]
  },
  {
   "cell_type": "code",
   "execution_count": 30,
   "id": "e8b73cb5",
   "metadata": {},
   "outputs": [
    {
     "data": {
      "text/plain": [
       "<_io.TextIOWrapper name='file/1.txt' mode='r' encoding='cp1252'>"
      ]
     },
     "execution_count": 30,
     "metadata": {},
     "output_type": "execute_result"
    }
   ],
   "source": [
    "f"
   ]
  },
  {
   "cell_type": "code",
   "execution_count": 31,
   "id": "6ec8d81a",
   "metadata": {},
   "outputs": [],
   "source": [
    "f = open('file/1.txt')"
   ]
  },
  {
   "cell_type": "code",
   "execution_count": 32,
   "id": "aa3ba182",
   "metadata": {},
   "outputs": [
    {
     "name": "stdout",
     "output_type": "stream",
     "text": [
      "10\n",
      "\n",
      "12\n",
      "\n",
      "5\n",
      "\n",
      "6\n",
      "\n",
      "4\n",
      "\n",
      "3\n",
      "\n",
      "3.5\n",
      "\n",
      "6\n",
      "\n",
      "0.5\n"
     ]
    }
   ],
   "source": [
    "for line in f:\n",
    "    print (line)"
   ]
  },
  {
   "cell_type": "code",
   "execution_count": 35,
   "id": "6bd51413",
   "metadata": {},
   "outputs": [
    {
     "name": "stdout",
     "output_type": "stream",
     "text": [
      "line number 1 is : 10\n",
      "\n",
      "line number 2 is : 12\n",
      "\n",
      "line number 3 is : 5\n",
      "\n",
      "line number 4 is : 6\n",
      "\n",
      "line number 5 is : 4\n",
      "\n",
      "line number 6 is : 3\n",
      "\n",
      "line number 7 is : 3.5\n",
      "\n",
      "line number 8 is : 6\n",
      "\n",
      "line number 9 is : 0.5\n"
     ]
    }
   ],
   "source": [
    "f = open('file/1.txt')\n",
    "counter =0\n",
    "for line in f :\n",
    "    counter+=1\n",
    "    print('line number %i is : %s'%(counter ,line))\n",
    "    "
   ]
  },
  {
   "cell_type": "code",
   "execution_count": 37,
   "id": "217695ed",
   "metadata": {},
   "outputs": [],
   "source": [
    "a='''12\n",
    "'''"
   ]
  },
  {
   "cell_type": "code",
   "execution_count": 38,
   "id": "571270a0",
   "metadata": {},
   "outputs": [
    {
     "data": {
      "text/plain": [
       "'12\\n'"
      ]
     },
     "execution_count": 38,
     "metadata": {},
     "output_type": "execute_result"
    }
   ],
   "source": [
    "a"
   ]
  },
  {
   "cell_type": "code",
   "execution_count": 39,
   "id": "e9efb0ea",
   "metadata": {},
   "outputs": [
    {
     "name": "stdout",
     "output_type": "stream",
     "text": [
      "12\n",
      "\n"
     ]
    }
   ],
   "source": [
    "print(a)"
   ]
  },
  {
   "cell_type": "code",
   "execution_count": 40,
   "id": "540889c7",
   "metadata": {},
   "outputs": [
    {
     "data": {
      "text/plain": [
       "'12'"
      ]
     },
     "execution_count": 40,
     "metadata": {},
     "output_type": "execute_result"
    }
   ],
   "source": [
    "a.strip()"
   ]
  },
  {
   "cell_type": "code",
   "execution_count": 42,
   "id": "e6576369",
   "metadata": {},
   "outputs": [],
   "source": [
    "a='''       12\n",
    "'''"
   ]
  },
  {
   "cell_type": "code",
   "execution_count": 47,
   "id": "e9374342",
   "metadata": {},
   "outputs": [
    {
     "data": {
      "text/plain": [
       "'12\\n'"
      ]
     },
     "execution_count": 47,
     "metadata": {},
     "output_type": "execute_result"
    }
   ],
   "source": [
    "a.lstrip()"
   ]
  },
  {
   "cell_type": "code",
   "execution_count": 48,
   "id": "782cadae",
   "metadata": {},
   "outputs": [],
   "source": [
    "fin =open ('1.txt')"
   ]
  },
  {
   "cell_type": "code",
   "execution_count": 50,
   "id": "78e0711e",
   "metadata": {},
   "outputs": [
    {
     "name": "stdout",
     "output_type": "stream",
     "text": [
      "10\n",
      "12\n",
      "5\n",
      "6\n",
      "4\n",
      "3\n",
      "3.5\n",
      "6\n",
      "0.5\n"
     ]
    }
   ],
   "source": [
    "for line in fin:\n",
    "    print (line.strip())\n",
    "    "
   ]
  },
  {
   "cell_type": "code",
   "execution_count": 51,
   "id": "49eeb993",
   "metadata": {},
   "outputs": [
    {
     "data": {
      "text/plain": [
       "'0.5'"
      ]
     },
     "execution_count": 51,
     "metadata": {},
     "output_type": "execute_result"
    }
   ],
   "source": [
    "counter =0\n",
    "sum =0\n",
    "fin =open ('1.txt')\n",
    "for line in fin:\n",
    "    counter+=1\n",
    "    thisnumber =float (line.strip())\n",
    "    sum = sum +thisnumber\n",
    "line\n",
    "    \n",
    "    "
   ]
  },
  {
   "cell_type": "code",
   "execution_count": 52,
   "id": "feb44589",
   "metadata": {},
   "outputs": [
    {
     "data": {
      "text/plain": [
       "9"
      ]
     },
     "execution_count": 52,
     "metadata": {},
     "output_type": "execute_result"
    }
   ],
   "source": [
    "counter"
   ]
  },
  {
   "cell_type": "code",
   "execution_count": 53,
   "id": "799d9063",
   "metadata": {},
   "outputs": [
    {
     "data": {
      "text/plain": [
       "50.0"
      ]
     },
     "execution_count": 53,
     "metadata": {},
     "output_type": "execute_result"
    }
   ],
   "source": [
    "sum"
   ]
  },
  {
   "cell_type": "code",
   "execution_count": 54,
   "id": "5c933037",
   "metadata": {},
   "outputs": [
    {
     "data": {
      "text/plain": [
       "5.555555555555555"
      ]
     },
     "execution_count": 54,
     "metadata": {},
     "output_type": "execute_result"
    }
   ],
   "source": [
    "sum/counter"
   ]
  },
  {
   "cell_type": "code",
   "execution_count": 55,
   "id": "1f3b5b4f",
   "metadata": {},
   "outputs": [
    {
     "data": {
      "text/plain": [
       "<_io.TextIOWrapper name='1.txt' mode='r' encoding='cp1252'>"
      ]
     },
     "execution_count": 55,
     "metadata": {},
     "output_type": "execute_result"
    }
   ],
   "source": [
    "fin"
   ]
  },
  {
   "cell_type": "code",
   "execution_count": 57,
   "id": "290e67de",
   "metadata": {},
   "outputs": [
    {
     "data": {
      "text/plain": [
       "['10\\n', '12\\n', '5\\n', '6\\n', '4\\n', '3\\n', '3.5\\n', '6\\n', '0.5']"
      ]
     },
     "execution_count": 57,
     "metadata": {},
     "output_type": "execute_result"
    }
   ],
   "source": [
    "f =open ('1.txt')\n",
    "f.readlines()"
   ]
  },
  {
   "cell_type": "code",
   "execution_count": 58,
   "id": "f980a7c4",
   "metadata": {},
   "outputs": [
    {
     "data": {
      "text/plain": [
       "['10\\n', '12\\n', '5\\n', '6\\n', '4\\n', '3\\n', '3.5\\n', '6\\n', '0.5']"
      ]
     },
     "execution_count": 58,
     "metadata": {},
     "output_type": "execute_result"
    }
   ],
   "source": [
    "f =open ('1.txt')\n",
    "lines =f.readlines()\n",
    "lines"
   ]
  },
  {
   "cell_type": "code",
   "execution_count": 59,
   "id": "1f07e5ef",
   "metadata": {},
   "outputs": [
    {
     "name": "stdout",
     "output_type": "stream",
     "text": [
      "10\n",
      "12\n",
      "5\n",
      "6\n",
      "4\n",
      "3\n",
      "3.5\n",
      "6\n",
      "0.5\n"
     ]
    }
   ],
   "source": [
    "for line in lines:\n",
    "    print (line.strip())"
   ]
  },
  {
   "cell_type": "code",
   "execution_count": 60,
   "id": "1e6e79b0",
   "metadata": {},
   "outputs": [],
   "source": [
    "f =open ('avarage.txt','w')"
   ]
  },
  {
   "cell_type": "code",
   "execution_count": 61,
   "id": "a8667bde",
   "metadata": {},
   "outputs": [
    {
     "data": {
      "text/plain": [
       "_io.TextIOWrapper"
      ]
     },
     "execution_count": 61,
     "metadata": {},
     "output_type": "execute_result"
    }
   ],
   "source": [
    "type (f)"
   ]
  },
  {
   "cell_type": "code",
   "execution_count": 62,
   "id": "56901ea6",
   "metadata": {},
   "outputs": [],
   "source": [
    "avarage =sum/counter"
   ]
  },
  {
   "cell_type": "code",
   "execution_count": 63,
   "id": "6f35b21e",
   "metadata": {},
   "outputs": [
    {
     "data": {
      "text/plain": [
       "5.555555555555555"
      ]
     },
     "execution_count": 63,
     "metadata": {},
     "output_type": "execute_result"
    }
   ],
   "source": [
    "avarage"
   ]
  },
  {
   "cell_type": "code",
   "execution_count": 66,
   "id": "96eccd7a",
   "metadata": {},
   "outputs": [
    {
     "data": {
      "text/plain": [
       "'5.555555555555555'"
      ]
     },
     "execution_count": 66,
     "metadata": {},
     "output_type": "execute_result"
    }
   ],
   "source": [
    "str(avarage)"
   ]
  },
  {
   "cell_type": "code",
   "execution_count": 68,
   "id": "6a7c69af",
   "metadata": {},
   "outputs": [
    {
     "data": {
      "text/plain": [
       "17"
      ]
     },
     "execution_count": 68,
     "metadata": {},
     "output_type": "execute_result"
    }
   ],
   "source": [
    "f.write(str(avarage))"
   ]
  },
  {
   "cell_type": "code",
   "execution_count": 70,
   "id": "f2c50d39",
   "metadata": {},
   "outputs": [],
   "source": [
    "f.close()"
   ]
  },
  {
   "cell_type": "markdown",
   "id": "8f132c73",
   "metadata": {},
   "source": [
    "# CSV (comma seperated valused)\n",
    "\n",
    "\n",
    "\n",
    "s05 ep02"
   ]
  },
  {
   "cell_type": "code",
   "execution_count": 72,
   "id": "4699548c",
   "metadata": {},
   "outputs": [],
   "source": [
    "# vscode run extanion (code runner)"
   ]
  },
  {
   "cell_type": "code",
   "execution_count": 87,
   "id": "221ccd04",
   "metadata": {},
   "outputs": [],
   "source": [
    "import csv\n",
    "import statistics"
   ]
  },
  {
   "cell_type": "code",
   "execution_count": null,
   "id": "f74c2b41",
   "metadata": {},
   "outputs": [],
   "source": []
  },
  {
   "cell_type": "markdown",
   "id": "de90f6a8",
   "metadata": {},
   "source": [
    "# hack\n",
    "\n",
    "\n",
    "s06 ep1"
   ]
  },
  {
   "cell_type": "code",
   "execution_count": 92,
   "id": "8acc151a",
   "metadata": {},
   "outputs": [],
   "source": [
    "# hash sha 265 algoritm"
   ]
  },
  {
   "cell_type": "markdown",
   "id": "88116ba5",
   "metadata": {},
   "source": [
    "# End"
   ]
  }
 ],
 "metadata": {
  "kernelspec": {
   "display_name": "Python 3 (ipykernel)",
   "language": "python",
   "name": "python3"
  },
  "language_info": {
   "codemirror_mode": {
    "name": "ipython",
    "version": 3
   },
   "file_extension": ".py",
   "mimetype": "text/x-python",
   "name": "python",
   "nbconvert_exporter": "python",
   "pygments_lexer": "ipython3",
   "version": "3.9.12"
  }
 },
 "nbformat": 4,
 "nbformat_minor": 5
}
